{
  "nbformat": 4,
  "nbformat_minor": 0,
  "metadata": {
    "colab": {
      "provenance": []
    },
    "kernelspec": {
      "name": "python3",
      "display_name": "Python 3"
    },
    "language_info": {
      "name": "python"
    }
  },
  "cells": [
    {
      "cell_type": "markdown",
      "source": [
        "# Exercise 7: Question (3)\n",
        "\n",
        "## Submitted by:  Neelkanth Rawat, Linus Lauer, Patrick Alvarado\n"
      ],
      "metadata": {
        "id": "ph_tTAweTsmz"
      }
    },
    {
      "cell_type": "code",
      "execution_count": 1,
      "metadata": {
        "id": "cSKk0FO15n1Y"
      },
      "outputs": [],
      "source": [
        "import numpy as np\n",
        "import matplotlib.pyplot as plt\n",
        "import pandas as pd\n",
        "import sklearn\n",
        "from sklearn.model_selection import train_test_split"
      ]
    },
    {
      "cell_type": "code",
      "source": [
        "data_file= \"/content/data_08_prostate.csv\"\n",
        "df=pd.read_csv(data_file)"
      ],
      "metadata": {
        "id": "JGDaRD4c7Ksq"
      },
      "execution_count": 2,
      "outputs": []
    },
    {
      "cell_type": "code",
      "source": [
        "df"
      ],
      "metadata": {
        "colab": {
          "base_uri": "https://localhost:8080/",
          "height": 424
        },
        "id": "c34nmdEq7dsT",
        "outputId": "1bd45f24-f622-4b5d-bc23-0d23c1ae5ccf"
      },
      "execution_count": 3,
      "outputs": [
        {
          "output_type": "execute_result",
          "data": {
            "text/plain": [
              "      lcavol   lweight       age      lbph       svi       lcp   gleason  \\\n",
              "0  -1.645861 -1.787678 -1.872101 -1.030029 -0.525657 -0.867655 -1.047571   \n",
              "1  -1.999313 -0.674124 -0.791989 -1.030029 -0.525657 -0.867655 -1.047571   \n",
              "2  -1.587021 -1.945989  1.368234 -1.030029 -0.525657 -0.867655  0.344407   \n",
              "3  -2.178174 -0.748683 -0.791989 -1.030029 -0.525657 -0.867655 -1.047571   \n",
              "4  -0.510513 -0.445921 -0.251933 -1.030029 -0.525657 -0.867655 -1.047571   \n",
              "..       ...       ...       ...       ...       ...       ...       ...   \n",
              "92  1.262444  0.452795  0.558151 -1.030029  1.902379  1.079149  0.344407   \n",
              "93  2.107397  0.494314 -2.682185 -1.030029  1.902379  1.688267  0.344407   \n",
              "94  1.328267 -0.519166 -1.602073 -1.030029  1.902379  1.900197  0.344407   \n",
              "95  1.307045  0.245360  0.558151  1.010033  1.902379  1.249088  0.344407   \n",
              "96  1.809719  0.652368  0.558151  0.234114  1.902379  2.216735  0.344407   \n",
              "\n",
              "       pgg45      lpsa  \n",
              "0  -0.868957 -0.430783  \n",
              "1  -0.868957 -0.162519  \n",
              "2  -0.156155 -0.162519  \n",
              "3  -0.868957 -0.162519  \n",
              "4  -0.868957  0.371564  \n",
              "..       ...       ...  \n",
              "92  1.269449  4.385147  \n",
              "93  0.556647  4.684443  \n",
              "94 -0.512556  5.143124  \n",
              "95  1.982251  5.477509  \n",
              "96 -0.156155  5.582932  \n",
              "\n",
              "[97 rows x 9 columns]"
            ],
            "text/html": [
              "\n",
              "  <div id=\"df-b902d2c5-5ee8-4e68-803b-31bfe5cf0860\" class=\"colab-df-container\">\n",
              "    <div>\n",
              "<style scoped>\n",
              "    .dataframe tbody tr th:only-of-type {\n",
              "        vertical-align: middle;\n",
              "    }\n",
              "\n",
              "    .dataframe tbody tr th {\n",
              "        vertical-align: top;\n",
              "    }\n",
              "\n",
              "    .dataframe thead th {\n",
              "        text-align: right;\n",
              "    }\n",
              "</style>\n",
              "<table border=\"1\" class=\"dataframe\">\n",
              "  <thead>\n",
              "    <tr style=\"text-align: right;\">\n",
              "      <th></th>\n",
              "      <th>lcavol</th>\n",
              "      <th>lweight</th>\n",
              "      <th>age</th>\n",
              "      <th>lbph</th>\n",
              "      <th>svi</th>\n",
              "      <th>lcp</th>\n",
              "      <th>gleason</th>\n",
              "      <th>pgg45</th>\n",
              "      <th>lpsa</th>\n",
              "    </tr>\n",
              "  </thead>\n",
              "  <tbody>\n",
              "    <tr>\n",
              "      <th>0</th>\n",
              "      <td>-1.645861</td>\n",
              "      <td>-1.787678</td>\n",
              "      <td>-1.872101</td>\n",
              "      <td>-1.030029</td>\n",
              "      <td>-0.525657</td>\n",
              "      <td>-0.867655</td>\n",
              "      <td>-1.047571</td>\n",
              "      <td>-0.868957</td>\n",
              "      <td>-0.430783</td>\n",
              "    </tr>\n",
              "    <tr>\n",
              "      <th>1</th>\n",
              "      <td>-1.999313</td>\n",
              "      <td>-0.674124</td>\n",
              "      <td>-0.791989</td>\n",
              "      <td>-1.030029</td>\n",
              "      <td>-0.525657</td>\n",
              "      <td>-0.867655</td>\n",
              "      <td>-1.047571</td>\n",
              "      <td>-0.868957</td>\n",
              "      <td>-0.162519</td>\n",
              "    </tr>\n",
              "    <tr>\n",
              "      <th>2</th>\n",
              "      <td>-1.587021</td>\n",
              "      <td>-1.945989</td>\n",
              "      <td>1.368234</td>\n",
              "      <td>-1.030029</td>\n",
              "      <td>-0.525657</td>\n",
              "      <td>-0.867655</td>\n",
              "      <td>0.344407</td>\n",
              "      <td>-0.156155</td>\n",
              "      <td>-0.162519</td>\n",
              "    </tr>\n",
              "    <tr>\n",
              "      <th>3</th>\n",
              "      <td>-2.178174</td>\n",
              "      <td>-0.748683</td>\n",
              "      <td>-0.791989</td>\n",
              "      <td>-1.030029</td>\n",
              "      <td>-0.525657</td>\n",
              "      <td>-0.867655</td>\n",
              "      <td>-1.047571</td>\n",
              "      <td>-0.868957</td>\n",
              "      <td>-0.162519</td>\n",
              "    </tr>\n",
              "    <tr>\n",
              "      <th>4</th>\n",
              "      <td>-0.510513</td>\n",
              "      <td>-0.445921</td>\n",
              "      <td>-0.251933</td>\n",
              "      <td>-1.030029</td>\n",
              "      <td>-0.525657</td>\n",
              "      <td>-0.867655</td>\n",
              "      <td>-1.047571</td>\n",
              "      <td>-0.868957</td>\n",
              "      <td>0.371564</td>\n",
              "    </tr>\n",
              "    <tr>\n",
              "      <th>...</th>\n",
              "      <td>...</td>\n",
              "      <td>...</td>\n",
              "      <td>...</td>\n",
              "      <td>...</td>\n",
              "      <td>...</td>\n",
              "      <td>...</td>\n",
              "      <td>...</td>\n",
              "      <td>...</td>\n",
              "      <td>...</td>\n",
              "    </tr>\n",
              "    <tr>\n",
              "      <th>92</th>\n",
              "      <td>1.262444</td>\n",
              "      <td>0.452795</td>\n",
              "      <td>0.558151</td>\n",
              "      <td>-1.030029</td>\n",
              "      <td>1.902379</td>\n",
              "      <td>1.079149</td>\n",
              "      <td>0.344407</td>\n",
              "      <td>1.269449</td>\n",
              "      <td>4.385147</td>\n",
              "    </tr>\n",
              "    <tr>\n",
              "      <th>93</th>\n",
              "      <td>2.107397</td>\n",
              "      <td>0.494314</td>\n",
              "      <td>-2.682185</td>\n",
              "      <td>-1.030029</td>\n",
              "      <td>1.902379</td>\n",
              "      <td>1.688267</td>\n",
              "      <td>0.344407</td>\n",
              "      <td>0.556647</td>\n",
              "      <td>4.684443</td>\n",
              "    </tr>\n",
              "    <tr>\n",
              "      <th>94</th>\n",
              "      <td>1.328267</td>\n",
              "      <td>-0.519166</td>\n",
              "      <td>-1.602073</td>\n",
              "      <td>-1.030029</td>\n",
              "      <td>1.902379</td>\n",
              "      <td>1.900197</td>\n",
              "      <td>0.344407</td>\n",
              "      <td>-0.512556</td>\n",
              "      <td>5.143124</td>\n",
              "    </tr>\n",
              "    <tr>\n",
              "      <th>95</th>\n",
              "      <td>1.307045</td>\n",
              "      <td>0.245360</td>\n",
              "      <td>0.558151</td>\n",
              "      <td>1.010033</td>\n",
              "      <td>1.902379</td>\n",
              "      <td>1.249088</td>\n",
              "      <td>0.344407</td>\n",
              "      <td>1.982251</td>\n",
              "      <td>5.477509</td>\n",
              "    </tr>\n",
              "    <tr>\n",
              "      <th>96</th>\n",
              "      <td>1.809719</td>\n",
              "      <td>0.652368</td>\n",
              "      <td>0.558151</td>\n",
              "      <td>0.234114</td>\n",
              "      <td>1.902379</td>\n",
              "      <td>2.216735</td>\n",
              "      <td>0.344407</td>\n",
              "      <td>-0.156155</td>\n",
              "      <td>5.582932</td>\n",
              "    </tr>\n",
              "  </tbody>\n",
              "</table>\n",
              "<p>97 rows × 9 columns</p>\n",
              "</div>\n",
              "    <div class=\"colab-df-buttons\">\n",
              "\n",
              "  <div class=\"colab-df-container\">\n",
              "    <button class=\"colab-df-convert\" onclick=\"convertToInteractive('df-b902d2c5-5ee8-4e68-803b-31bfe5cf0860')\"\n",
              "            title=\"Convert this dataframe to an interactive table.\"\n",
              "            style=\"display:none;\">\n",
              "\n",
              "  <svg xmlns=\"http://www.w3.org/2000/svg\" height=\"24px\" viewBox=\"0 -960 960 960\">\n",
              "    <path d=\"M120-120v-720h720v720H120Zm60-500h600v-160H180v160Zm220 220h160v-160H400v160Zm0 220h160v-160H400v160ZM180-400h160v-160H180v160Zm440 0h160v-160H620v160ZM180-180h160v-160H180v160Zm440 0h160v-160H620v160Z\"/>\n",
              "  </svg>\n",
              "    </button>\n",
              "\n",
              "  <style>\n",
              "    .colab-df-container {\n",
              "      display:flex;\n",
              "      gap: 12px;\n",
              "    }\n",
              "\n",
              "    .colab-df-convert {\n",
              "      background-color: #E8F0FE;\n",
              "      border: none;\n",
              "      border-radius: 50%;\n",
              "      cursor: pointer;\n",
              "      display: none;\n",
              "      fill: #1967D2;\n",
              "      height: 32px;\n",
              "      padding: 0 0 0 0;\n",
              "      width: 32px;\n",
              "    }\n",
              "\n",
              "    .colab-df-convert:hover {\n",
              "      background-color: #E2EBFA;\n",
              "      box-shadow: 0px 1px 2px rgba(60, 64, 67, 0.3), 0px 1px 3px 1px rgba(60, 64, 67, 0.15);\n",
              "      fill: #174EA6;\n",
              "    }\n",
              "\n",
              "    .colab-df-buttons div {\n",
              "      margin-bottom: 4px;\n",
              "    }\n",
              "\n",
              "    [theme=dark] .colab-df-convert {\n",
              "      background-color: #3B4455;\n",
              "      fill: #D2E3FC;\n",
              "    }\n",
              "\n",
              "    [theme=dark] .colab-df-convert:hover {\n",
              "      background-color: #434B5C;\n",
              "      box-shadow: 0px 1px 3px 1px rgba(0, 0, 0, 0.15);\n",
              "      filter: drop-shadow(0px 1px 2px rgba(0, 0, 0, 0.3));\n",
              "      fill: #FFFFFF;\n",
              "    }\n",
              "  </style>\n",
              "\n",
              "    <script>\n",
              "      const buttonEl =\n",
              "        document.querySelector('#df-b902d2c5-5ee8-4e68-803b-31bfe5cf0860 button.colab-df-convert');\n",
              "      buttonEl.style.display =\n",
              "        google.colab.kernel.accessAllowed ? 'block' : 'none';\n",
              "\n",
              "      async function convertToInteractive(key) {\n",
              "        const element = document.querySelector('#df-b902d2c5-5ee8-4e68-803b-31bfe5cf0860');\n",
              "        const dataTable =\n",
              "          await google.colab.kernel.invokeFunction('convertToInteractive',\n",
              "                                                    [key], {});\n",
              "        if (!dataTable) return;\n",
              "\n",
              "        const docLinkHtml = 'Like what you see? Visit the ' +\n",
              "          '<a target=\"_blank\" href=https://colab.research.google.com/notebooks/data_table.ipynb>data table notebook</a>'\n",
              "          + ' to learn more about interactive tables.';\n",
              "        element.innerHTML = '';\n",
              "        dataTable['output_type'] = 'display_data';\n",
              "        await google.colab.output.renderOutput(dataTable, element);\n",
              "        const docLink = document.createElement('div');\n",
              "        docLink.innerHTML = docLinkHtml;\n",
              "        element.appendChild(docLink);\n",
              "      }\n",
              "    </script>\n",
              "  </div>\n",
              "\n",
              "\n",
              "<div id=\"df-ef3d210b-988a-4069-aac4-ad7d77c43e35\">\n",
              "  <button class=\"colab-df-quickchart\" onclick=\"quickchart('df-ef3d210b-988a-4069-aac4-ad7d77c43e35')\"\n",
              "            title=\"Suggest charts\"\n",
              "            style=\"display:none;\">\n",
              "\n",
              "<svg xmlns=\"http://www.w3.org/2000/svg\" height=\"24px\"viewBox=\"0 0 24 24\"\n",
              "     width=\"24px\">\n",
              "    <g>\n",
              "        <path d=\"M19 3H5c-1.1 0-2 .9-2 2v14c0 1.1.9 2 2 2h14c1.1 0 2-.9 2-2V5c0-1.1-.9-2-2-2zM9 17H7v-7h2v7zm4 0h-2V7h2v10zm4 0h-2v-4h2v4z\"/>\n",
              "    </g>\n",
              "</svg>\n",
              "  </button>\n",
              "\n",
              "<style>\n",
              "  .colab-df-quickchart {\n",
              "      --bg-color: #E8F0FE;\n",
              "      --fill-color: #1967D2;\n",
              "      --hover-bg-color: #E2EBFA;\n",
              "      --hover-fill-color: #174EA6;\n",
              "      --disabled-fill-color: #AAA;\n",
              "      --disabled-bg-color: #DDD;\n",
              "  }\n",
              "\n",
              "  [theme=dark] .colab-df-quickchart {\n",
              "      --bg-color: #3B4455;\n",
              "      --fill-color: #D2E3FC;\n",
              "      --hover-bg-color: #434B5C;\n",
              "      --hover-fill-color: #FFFFFF;\n",
              "      --disabled-bg-color: #3B4455;\n",
              "      --disabled-fill-color: #666;\n",
              "  }\n",
              "\n",
              "  .colab-df-quickchart {\n",
              "    background-color: var(--bg-color);\n",
              "    border: none;\n",
              "    border-radius: 50%;\n",
              "    cursor: pointer;\n",
              "    display: none;\n",
              "    fill: var(--fill-color);\n",
              "    height: 32px;\n",
              "    padding: 0;\n",
              "    width: 32px;\n",
              "  }\n",
              "\n",
              "  .colab-df-quickchart:hover {\n",
              "    background-color: var(--hover-bg-color);\n",
              "    box-shadow: 0 1px 2px rgba(60, 64, 67, 0.3), 0 1px 3px 1px rgba(60, 64, 67, 0.15);\n",
              "    fill: var(--button-hover-fill-color);\n",
              "  }\n",
              "\n",
              "  .colab-df-quickchart-complete:disabled,\n",
              "  .colab-df-quickchart-complete:disabled:hover {\n",
              "    background-color: var(--disabled-bg-color);\n",
              "    fill: var(--disabled-fill-color);\n",
              "    box-shadow: none;\n",
              "  }\n",
              "\n",
              "  .colab-df-spinner {\n",
              "    border: 2px solid var(--fill-color);\n",
              "    border-color: transparent;\n",
              "    border-bottom-color: var(--fill-color);\n",
              "    animation:\n",
              "      spin 1s steps(1) infinite;\n",
              "  }\n",
              "\n",
              "  @keyframes spin {\n",
              "    0% {\n",
              "      border-color: transparent;\n",
              "      border-bottom-color: var(--fill-color);\n",
              "      border-left-color: var(--fill-color);\n",
              "    }\n",
              "    20% {\n",
              "      border-color: transparent;\n",
              "      border-left-color: var(--fill-color);\n",
              "      border-top-color: var(--fill-color);\n",
              "    }\n",
              "    30% {\n",
              "      border-color: transparent;\n",
              "      border-left-color: var(--fill-color);\n",
              "      border-top-color: var(--fill-color);\n",
              "      border-right-color: var(--fill-color);\n",
              "    }\n",
              "    40% {\n",
              "      border-color: transparent;\n",
              "      border-right-color: var(--fill-color);\n",
              "      border-top-color: var(--fill-color);\n",
              "    }\n",
              "    60% {\n",
              "      border-color: transparent;\n",
              "      border-right-color: var(--fill-color);\n",
              "    }\n",
              "    80% {\n",
              "      border-color: transparent;\n",
              "      border-right-color: var(--fill-color);\n",
              "      border-bottom-color: var(--fill-color);\n",
              "    }\n",
              "    90% {\n",
              "      border-color: transparent;\n",
              "      border-bottom-color: var(--fill-color);\n",
              "    }\n",
              "  }\n",
              "</style>\n",
              "\n",
              "  <script>\n",
              "    async function quickchart(key) {\n",
              "      const quickchartButtonEl =\n",
              "        document.querySelector('#' + key + ' button');\n",
              "      quickchartButtonEl.disabled = true;  // To prevent multiple clicks.\n",
              "      quickchartButtonEl.classList.add('colab-df-spinner');\n",
              "      try {\n",
              "        const charts = await google.colab.kernel.invokeFunction(\n",
              "            'suggestCharts', [key], {});\n",
              "      } catch (error) {\n",
              "        console.error('Error during call to suggestCharts:', error);\n",
              "      }\n",
              "      quickchartButtonEl.classList.remove('colab-df-spinner');\n",
              "      quickchartButtonEl.classList.add('colab-df-quickchart-complete');\n",
              "    }\n",
              "    (() => {\n",
              "      let quickchartButtonEl =\n",
              "        document.querySelector('#df-ef3d210b-988a-4069-aac4-ad7d77c43e35 button');\n",
              "      quickchartButtonEl.style.display =\n",
              "        google.colab.kernel.accessAllowed ? 'block' : 'none';\n",
              "    })();\n",
              "  </script>\n",
              "</div>\n",
              "    </div>\n",
              "  </div>\n"
            ]
          },
          "metadata": {},
          "execution_count": 3
        }
      ]
    },
    {
      "cell_type": "code",
      "source": [
        "df.columns.to_list(), len(df.columns.to_list())"
      ],
      "metadata": {
        "colab": {
          "base_uri": "https://localhost:8080/"
        },
        "id": "tMRd_RQP7l4G",
        "outputId": "3add3737-b4a7-4186-b191-218be3c14a91"
      },
      "execution_count": 4,
      "outputs": [
        {
          "output_type": "execute_result",
          "data": {
            "text/plain": [
              "(['lcavol',\n",
              "  'lweight',\n",
              "  'age',\n",
              "  'lbph',\n",
              "  'svi',\n",
              "  'lcp',\n",
              "  'gleason',\n",
              "  'pgg45',\n",
              "  'lpsa'],\n",
              " 9)"
            ]
          },
          "metadata": {},
          "execution_count": 4
        }
      ]
    },
    {
      "cell_type": "code",
      "source": [
        "# Define the feature matrix X\n",
        "X = df[['lcavol', 'lweight', 'age', 'lbph', 'svi', 'lcp', 'gleason', 'pgg45']]\n",
        "\n",
        "# Add a column of ones as the first column for the intercept\n",
        "X.insert(0, 'intercept', 1)\n",
        "\n",
        "# Display the updated feature matrix X\n",
        "print(X.head())\n"
      ],
      "metadata": {
        "colab": {
          "base_uri": "https://localhost:8080/"
        },
        "id": "WlrkSqG48bf7",
        "outputId": "68f2b74d-2ebb-4aa8-9fdb-30417ecfb813"
      },
      "execution_count": 5,
      "outputs": [
        {
          "output_type": "stream",
          "name": "stdout",
          "text": [
            "   intercept    lcavol   lweight       age      lbph       svi       lcp  \\\n",
            "0          1 -1.645861 -1.787678 -1.872101 -1.030029 -0.525657 -0.867655   \n",
            "1          1 -1.999313 -0.674124 -0.791989 -1.030029 -0.525657 -0.867655   \n",
            "2          1 -1.587021 -1.945989  1.368234 -1.030029 -0.525657 -0.867655   \n",
            "3          1 -2.178174 -0.748683 -0.791989 -1.030029 -0.525657 -0.867655   \n",
            "4          1 -0.510513 -0.445921 -0.251933 -1.030029 -0.525657 -0.867655   \n",
            "\n",
            "    gleason     pgg45  \n",
            "0 -1.047571 -0.868957  \n",
            "1 -1.047571 -0.868957  \n",
            "2  0.344407 -0.156155  \n",
            "3 -1.047571 -0.868957  \n",
            "4 -1.047571 -0.868957  \n"
          ]
        }
      ]
    },
    {
      "cell_type": "markdown",
      "source": [
        "# 3(b)"
      ],
      "metadata": {
        "id": "8a3U-a3SEOdV"
      }
    },
    {
      "cell_type": "code",
      "source": [
        "X_mat=X.values\n",
        "X_mat.shape"
      ],
      "metadata": {
        "colab": {
          "base_uri": "https://localhost:8080/"
        },
        "id": "vDqN53SB-IG3",
        "outputId": "ea726f4d-4a2e-4b4a-fcc4-45e1e923eb49"
      },
      "execution_count": 6,
      "outputs": [
        {
          "output_type": "execute_result",
          "data": {
            "text/plain": [
              "(97, 9)"
            ]
          },
          "metadata": {},
          "execution_count": 6
        }
      ]
    },
    {
      "cell_type": "code",
      "source": [
        "rank_X= np.linalg.matrix_rank(X_mat)\n",
        "print(f\"rank of X is: {rank_X}\"); print(\"shape of X:\",X_mat.shape)"
      ],
      "metadata": {
        "colab": {
          "base_uri": "https://localhost:8080/"
        },
        "id": "0RH6EPpMDyvF",
        "outputId": "051f2ad7-fb39-4662-b67a-bca3b5076e3b"
      },
      "execution_count": 7,
      "outputs": [
        {
          "output_type": "stream",
          "name": "stdout",
          "text": [
            "rank of X is: 9\n",
            "shape of X: (97, 9)\n"
          ]
        }
      ]
    },
    {
      "cell_type": "markdown",
      "source": [
        "* The rank of our data matrix X is 9 which is min(97,9)= full rank of X!"
      ],
      "metadata": {
        "id": "daFoaggADMLd"
      }
    },
    {
      "cell_type": "markdown",
      "source": [
        "### Y data"
      ],
      "metadata": {
        "id": "yRM2C3lxFZOM"
      }
    },
    {
      "cell_type": "code",
      "source": [
        "### y data\n",
        "y = df['lpsa']\n",
        "print(y.head())"
      ],
      "metadata": {
        "colab": {
          "base_uri": "https://localhost:8080/"
        },
        "id": "bCp3BTopEorp",
        "outputId": "db974074-e732-45a0-dad4-f5ac895f96aa"
      },
      "execution_count": 8,
      "outputs": [
        {
          "output_type": "stream",
          "name": "stdout",
          "text": [
            "0   -0.430783\n",
            "1   -0.162519\n",
            "2   -0.162519\n",
            "3   -0.162519\n",
            "4    0.371564\n",
            "Name: lpsa, dtype: float64\n"
          ]
        }
      ]
    },
    {
      "cell_type": "code",
      "source": [
        "y_mat=y.values"
      ],
      "metadata": {
        "id": "NL-WqWbtFcuC"
      },
      "execution_count": 9,
      "outputs": []
    },
    {
      "cell_type": "markdown",
      "source": [
        "# 3-(a) Correlation evaluation:"
      ],
      "metadata": {
        "id": "Z_5s-y0A_OCU"
      }
    },
    {
      "cell_type": "code",
      "source": [
        "# Calculating the correlation matrix\n",
        "correlation_matrix = df.corr()"
      ],
      "metadata": {
        "id": "kf77aB8z_VSi"
      },
      "execution_count": 10,
      "outputs": []
    },
    {
      "cell_type": "code",
      "source": [
        "correlation_matrix"
      ],
      "metadata": {
        "colab": {
          "base_uri": "https://localhost:8080/",
          "height": 332
        },
        "id": "NrFCZ_XR_qZg",
        "outputId": "1d8707f0-5d10-429c-87ac-0f28a17576ec"
      },
      "execution_count": 11,
      "outputs": [
        {
          "output_type": "execute_result",
          "data": {
            "text/plain": [
              "           lcavol   lweight       age      lbph       svi       lcp   gleason  \\\n",
              "lcavol   1.000000  0.194128  0.225000  0.027350  0.538845  0.675310  0.432417   \n",
              "lweight  0.194128  1.000000  0.307529  0.434935  0.108778  0.100238 -0.001276   \n",
              "age      0.225000  0.307529  1.000000  0.350186  0.117658  0.127668  0.268892   \n",
              "lbph     0.027350  0.434935  0.350186  1.000000 -0.085843 -0.006999  0.077820   \n",
              "svi      0.538845  0.108778  0.117658 -0.085843  1.000000  0.673111  0.320412   \n",
              "lcp      0.675310  0.100238  0.127668 -0.006999  0.673111  1.000000  0.514830   \n",
              "gleason  0.432417 -0.001276  0.268892  0.077820  0.320412  0.514830  1.000000   \n",
              "pgg45    0.433652  0.050847  0.276112  0.078460  0.457648  0.631528  0.751905   \n",
              "lpsa     0.734460  0.354120  0.169593  0.179809  0.566218  0.548813  0.368987   \n",
              "\n",
              "            pgg45      lpsa  \n",
              "lcavol   0.433652  0.734460  \n",
              "lweight  0.050847  0.354120  \n",
              "age      0.276112  0.169593  \n",
              "lbph     0.078460  0.179809  \n",
              "svi      0.457648  0.566218  \n",
              "lcp      0.631528  0.548813  \n",
              "gleason  0.751905  0.368987  \n",
              "pgg45    1.000000  0.422316  \n",
              "lpsa     0.422316  1.000000  "
            ],
            "text/html": [
              "\n",
              "  <div id=\"df-cfc87b92-049f-46fe-ba72-46a6ab66dafa\" class=\"colab-df-container\">\n",
              "    <div>\n",
              "<style scoped>\n",
              "    .dataframe tbody tr th:only-of-type {\n",
              "        vertical-align: middle;\n",
              "    }\n",
              "\n",
              "    .dataframe tbody tr th {\n",
              "        vertical-align: top;\n",
              "    }\n",
              "\n",
              "    .dataframe thead th {\n",
              "        text-align: right;\n",
              "    }\n",
              "</style>\n",
              "<table border=\"1\" class=\"dataframe\">\n",
              "  <thead>\n",
              "    <tr style=\"text-align: right;\">\n",
              "      <th></th>\n",
              "      <th>lcavol</th>\n",
              "      <th>lweight</th>\n",
              "      <th>age</th>\n",
              "      <th>lbph</th>\n",
              "      <th>svi</th>\n",
              "      <th>lcp</th>\n",
              "      <th>gleason</th>\n",
              "      <th>pgg45</th>\n",
              "      <th>lpsa</th>\n",
              "    </tr>\n",
              "  </thead>\n",
              "  <tbody>\n",
              "    <tr>\n",
              "      <th>lcavol</th>\n",
              "      <td>1.000000</td>\n",
              "      <td>0.194128</td>\n",
              "      <td>0.225000</td>\n",
              "      <td>0.027350</td>\n",
              "      <td>0.538845</td>\n",
              "      <td>0.675310</td>\n",
              "      <td>0.432417</td>\n",
              "      <td>0.433652</td>\n",
              "      <td>0.734460</td>\n",
              "    </tr>\n",
              "    <tr>\n",
              "      <th>lweight</th>\n",
              "      <td>0.194128</td>\n",
              "      <td>1.000000</td>\n",
              "      <td>0.307529</td>\n",
              "      <td>0.434935</td>\n",
              "      <td>0.108778</td>\n",
              "      <td>0.100238</td>\n",
              "      <td>-0.001276</td>\n",
              "      <td>0.050847</td>\n",
              "      <td>0.354120</td>\n",
              "    </tr>\n",
              "    <tr>\n",
              "      <th>age</th>\n",
              "      <td>0.225000</td>\n",
              "      <td>0.307529</td>\n",
              "      <td>1.000000</td>\n",
              "      <td>0.350186</td>\n",
              "      <td>0.117658</td>\n",
              "      <td>0.127668</td>\n",
              "      <td>0.268892</td>\n",
              "      <td>0.276112</td>\n",
              "      <td>0.169593</td>\n",
              "    </tr>\n",
              "    <tr>\n",
              "      <th>lbph</th>\n",
              "      <td>0.027350</td>\n",
              "      <td>0.434935</td>\n",
              "      <td>0.350186</td>\n",
              "      <td>1.000000</td>\n",
              "      <td>-0.085843</td>\n",
              "      <td>-0.006999</td>\n",
              "      <td>0.077820</td>\n",
              "      <td>0.078460</td>\n",
              "      <td>0.179809</td>\n",
              "    </tr>\n",
              "    <tr>\n",
              "      <th>svi</th>\n",
              "      <td>0.538845</td>\n",
              "      <td>0.108778</td>\n",
              "      <td>0.117658</td>\n",
              "      <td>-0.085843</td>\n",
              "      <td>1.000000</td>\n",
              "      <td>0.673111</td>\n",
              "      <td>0.320412</td>\n",
              "      <td>0.457648</td>\n",
              "      <td>0.566218</td>\n",
              "    </tr>\n",
              "    <tr>\n",
              "      <th>lcp</th>\n",
              "      <td>0.675310</td>\n",
              "      <td>0.100238</td>\n",
              "      <td>0.127668</td>\n",
              "      <td>-0.006999</td>\n",
              "      <td>0.673111</td>\n",
              "      <td>1.000000</td>\n",
              "      <td>0.514830</td>\n",
              "      <td>0.631528</td>\n",
              "      <td>0.548813</td>\n",
              "    </tr>\n",
              "    <tr>\n",
              "      <th>gleason</th>\n",
              "      <td>0.432417</td>\n",
              "      <td>-0.001276</td>\n",
              "      <td>0.268892</td>\n",
              "      <td>0.077820</td>\n",
              "      <td>0.320412</td>\n",
              "      <td>0.514830</td>\n",
              "      <td>1.000000</td>\n",
              "      <td>0.751905</td>\n",
              "      <td>0.368987</td>\n",
              "    </tr>\n",
              "    <tr>\n",
              "      <th>pgg45</th>\n",
              "      <td>0.433652</td>\n",
              "      <td>0.050847</td>\n",
              "      <td>0.276112</td>\n",
              "      <td>0.078460</td>\n",
              "      <td>0.457648</td>\n",
              "      <td>0.631528</td>\n",
              "      <td>0.751905</td>\n",
              "      <td>1.000000</td>\n",
              "      <td>0.422316</td>\n",
              "    </tr>\n",
              "    <tr>\n",
              "      <th>lpsa</th>\n",
              "      <td>0.734460</td>\n",
              "      <td>0.354120</td>\n",
              "      <td>0.169593</td>\n",
              "      <td>0.179809</td>\n",
              "      <td>0.566218</td>\n",
              "      <td>0.548813</td>\n",
              "      <td>0.368987</td>\n",
              "      <td>0.422316</td>\n",
              "      <td>1.000000</td>\n",
              "    </tr>\n",
              "  </tbody>\n",
              "</table>\n",
              "</div>\n",
              "    <div class=\"colab-df-buttons\">\n",
              "\n",
              "  <div class=\"colab-df-container\">\n",
              "    <button class=\"colab-df-convert\" onclick=\"convertToInteractive('df-cfc87b92-049f-46fe-ba72-46a6ab66dafa')\"\n",
              "            title=\"Convert this dataframe to an interactive table.\"\n",
              "            style=\"display:none;\">\n",
              "\n",
              "  <svg xmlns=\"http://www.w3.org/2000/svg\" height=\"24px\" viewBox=\"0 -960 960 960\">\n",
              "    <path d=\"M120-120v-720h720v720H120Zm60-500h600v-160H180v160Zm220 220h160v-160H400v160Zm0 220h160v-160H400v160ZM180-400h160v-160H180v160Zm440 0h160v-160H620v160ZM180-180h160v-160H180v160Zm440 0h160v-160H620v160Z\"/>\n",
              "  </svg>\n",
              "    </button>\n",
              "\n",
              "  <style>\n",
              "    .colab-df-container {\n",
              "      display:flex;\n",
              "      gap: 12px;\n",
              "    }\n",
              "\n",
              "    .colab-df-convert {\n",
              "      background-color: #E8F0FE;\n",
              "      border: none;\n",
              "      border-radius: 50%;\n",
              "      cursor: pointer;\n",
              "      display: none;\n",
              "      fill: #1967D2;\n",
              "      height: 32px;\n",
              "      padding: 0 0 0 0;\n",
              "      width: 32px;\n",
              "    }\n",
              "\n",
              "    .colab-df-convert:hover {\n",
              "      background-color: #E2EBFA;\n",
              "      box-shadow: 0px 1px 2px rgba(60, 64, 67, 0.3), 0px 1px 3px 1px rgba(60, 64, 67, 0.15);\n",
              "      fill: #174EA6;\n",
              "    }\n",
              "\n",
              "    .colab-df-buttons div {\n",
              "      margin-bottom: 4px;\n",
              "    }\n",
              "\n",
              "    [theme=dark] .colab-df-convert {\n",
              "      background-color: #3B4455;\n",
              "      fill: #D2E3FC;\n",
              "    }\n",
              "\n",
              "    [theme=dark] .colab-df-convert:hover {\n",
              "      background-color: #434B5C;\n",
              "      box-shadow: 0px 1px 3px 1px rgba(0, 0, 0, 0.15);\n",
              "      filter: drop-shadow(0px 1px 2px rgba(0, 0, 0, 0.3));\n",
              "      fill: #FFFFFF;\n",
              "    }\n",
              "  </style>\n",
              "\n",
              "    <script>\n",
              "      const buttonEl =\n",
              "        document.querySelector('#df-cfc87b92-049f-46fe-ba72-46a6ab66dafa button.colab-df-convert');\n",
              "      buttonEl.style.display =\n",
              "        google.colab.kernel.accessAllowed ? 'block' : 'none';\n",
              "\n",
              "      async function convertToInteractive(key) {\n",
              "        const element = document.querySelector('#df-cfc87b92-049f-46fe-ba72-46a6ab66dafa');\n",
              "        const dataTable =\n",
              "          await google.colab.kernel.invokeFunction('convertToInteractive',\n",
              "                                                    [key], {});\n",
              "        if (!dataTable) return;\n",
              "\n",
              "        const docLinkHtml = 'Like what you see? Visit the ' +\n",
              "          '<a target=\"_blank\" href=https://colab.research.google.com/notebooks/data_table.ipynb>data table notebook</a>'\n",
              "          + ' to learn more about interactive tables.';\n",
              "        element.innerHTML = '';\n",
              "        dataTable['output_type'] = 'display_data';\n",
              "        await google.colab.output.renderOutput(dataTable, element);\n",
              "        const docLink = document.createElement('div');\n",
              "        docLink.innerHTML = docLinkHtml;\n",
              "        element.appendChild(docLink);\n",
              "      }\n",
              "    </script>\n",
              "  </div>\n",
              "\n",
              "\n",
              "<div id=\"df-5de1c0ae-1ba5-4941-b985-7ce09c148f06\">\n",
              "  <button class=\"colab-df-quickchart\" onclick=\"quickchart('df-5de1c0ae-1ba5-4941-b985-7ce09c148f06')\"\n",
              "            title=\"Suggest charts\"\n",
              "            style=\"display:none;\">\n",
              "\n",
              "<svg xmlns=\"http://www.w3.org/2000/svg\" height=\"24px\"viewBox=\"0 0 24 24\"\n",
              "     width=\"24px\">\n",
              "    <g>\n",
              "        <path d=\"M19 3H5c-1.1 0-2 .9-2 2v14c0 1.1.9 2 2 2h14c1.1 0 2-.9 2-2V5c0-1.1-.9-2-2-2zM9 17H7v-7h2v7zm4 0h-2V7h2v10zm4 0h-2v-4h2v4z\"/>\n",
              "    </g>\n",
              "</svg>\n",
              "  </button>\n",
              "\n",
              "<style>\n",
              "  .colab-df-quickchart {\n",
              "      --bg-color: #E8F0FE;\n",
              "      --fill-color: #1967D2;\n",
              "      --hover-bg-color: #E2EBFA;\n",
              "      --hover-fill-color: #174EA6;\n",
              "      --disabled-fill-color: #AAA;\n",
              "      --disabled-bg-color: #DDD;\n",
              "  }\n",
              "\n",
              "  [theme=dark] .colab-df-quickchart {\n",
              "      --bg-color: #3B4455;\n",
              "      --fill-color: #D2E3FC;\n",
              "      --hover-bg-color: #434B5C;\n",
              "      --hover-fill-color: #FFFFFF;\n",
              "      --disabled-bg-color: #3B4455;\n",
              "      --disabled-fill-color: #666;\n",
              "  }\n",
              "\n",
              "  .colab-df-quickchart {\n",
              "    background-color: var(--bg-color);\n",
              "    border: none;\n",
              "    border-radius: 50%;\n",
              "    cursor: pointer;\n",
              "    display: none;\n",
              "    fill: var(--fill-color);\n",
              "    height: 32px;\n",
              "    padding: 0;\n",
              "    width: 32px;\n",
              "  }\n",
              "\n",
              "  .colab-df-quickchart:hover {\n",
              "    background-color: var(--hover-bg-color);\n",
              "    box-shadow: 0 1px 2px rgba(60, 64, 67, 0.3), 0 1px 3px 1px rgba(60, 64, 67, 0.15);\n",
              "    fill: var(--button-hover-fill-color);\n",
              "  }\n",
              "\n",
              "  .colab-df-quickchart-complete:disabled,\n",
              "  .colab-df-quickchart-complete:disabled:hover {\n",
              "    background-color: var(--disabled-bg-color);\n",
              "    fill: var(--disabled-fill-color);\n",
              "    box-shadow: none;\n",
              "  }\n",
              "\n",
              "  .colab-df-spinner {\n",
              "    border: 2px solid var(--fill-color);\n",
              "    border-color: transparent;\n",
              "    border-bottom-color: var(--fill-color);\n",
              "    animation:\n",
              "      spin 1s steps(1) infinite;\n",
              "  }\n",
              "\n",
              "  @keyframes spin {\n",
              "    0% {\n",
              "      border-color: transparent;\n",
              "      border-bottom-color: var(--fill-color);\n",
              "      border-left-color: var(--fill-color);\n",
              "    }\n",
              "    20% {\n",
              "      border-color: transparent;\n",
              "      border-left-color: var(--fill-color);\n",
              "      border-top-color: var(--fill-color);\n",
              "    }\n",
              "    30% {\n",
              "      border-color: transparent;\n",
              "      border-left-color: var(--fill-color);\n",
              "      border-top-color: var(--fill-color);\n",
              "      border-right-color: var(--fill-color);\n",
              "    }\n",
              "    40% {\n",
              "      border-color: transparent;\n",
              "      border-right-color: var(--fill-color);\n",
              "      border-top-color: var(--fill-color);\n",
              "    }\n",
              "    60% {\n",
              "      border-color: transparent;\n",
              "      border-right-color: var(--fill-color);\n",
              "    }\n",
              "    80% {\n",
              "      border-color: transparent;\n",
              "      border-right-color: var(--fill-color);\n",
              "      border-bottom-color: var(--fill-color);\n",
              "    }\n",
              "    90% {\n",
              "      border-color: transparent;\n",
              "      border-bottom-color: var(--fill-color);\n",
              "    }\n",
              "  }\n",
              "</style>\n",
              "\n",
              "  <script>\n",
              "    async function quickchart(key) {\n",
              "      const quickchartButtonEl =\n",
              "        document.querySelector('#' + key + ' button');\n",
              "      quickchartButtonEl.disabled = true;  // To prevent multiple clicks.\n",
              "      quickchartButtonEl.classList.add('colab-df-spinner');\n",
              "      try {\n",
              "        const charts = await google.colab.kernel.invokeFunction(\n",
              "            'suggestCharts', [key], {});\n",
              "      } catch (error) {\n",
              "        console.error('Error during call to suggestCharts:', error);\n",
              "      }\n",
              "      quickchartButtonEl.classList.remove('colab-df-spinner');\n",
              "      quickchartButtonEl.classList.add('colab-df-quickchart-complete');\n",
              "    }\n",
              "    (() => {\n",
              "      let quickchartButtonEl =\n",
              "        document.querySelector('#df-5de1c0ae-1ba5-4941-b985-7ce09c148f06 button');\n",
              "      quickchartButtonEl.style.display =\n",
              "        google.colab.kernel.accessAllowed ? 'block' : 'none';\n",
              "    })();\n",
              "  </script>\n",
              "</div>\n",
              "    </div>\n",
              "  </div>\n"
            ]
          },
          "metadata": {},
          "execution_count": 11
        }
      ]
    },
    {
      "cell_type": "code",
      "source": [
        "# Getting the top three features with the strongest correlations with 'lpsa'\n",
        "top_features = correlation_matrix['lpsa'].abs().sort_values(ascending=False).index[1:4]\n",
        "\n",
        "# Plotting the correlations\n",
        "plt.figure(figsize=(12,4))\n",
        "for i,feature in enumerate(top_features):\n",
        "    plt.subplot(1,3,i+1)\n",
        "    plt.scatter(df[feature], df['lpsa'], label=f'{feature} vs lpsa')\n",
        "    plt.xlabel(feature)\n",
        "    plt.ylabel('lpsa')\n",
        "    plt.title(f'Correlation between {feature} and lpsa')\n",
        "    plt.legend()\n",
        "    plt.tight_layout()\n",
        "plt.show()"
      ],
      "metadata": {
        "colab": {
          "base_uri": "https://localhost:8080/",
          "height": 354
        },
        "id": "AUTX8Cwp_oW1",
        "outputId": "cedb010e-1480-4a4c-aaa0-3f27bd2ecddb"
      },
      "execution_count": 12,
      "outputs": [
        {
          "output_type": "display_data",
          "data": {
            "text/plain": [
              "<Figure size 1200x400 with 3 Axes>"
            ],
            "image/png": "[encoded data removed]"
          },
          "metadata": {}
        }
      ]
    },
    {
      "cell_type": "markdown",
      "source": [
        "# 3.(c) Splitting the data into training and test dataset"
      ],
      "metadata": {
        "id": "2aO5jc9zEUk_"
      }
    },
    {
      "cell_type": "code",
      "source": [
        "X_train, X_test, y_train, y_test = train_test_split(X_mat,y,test_size=0.3,random_state=42)"
      ],
      "metadata": {
        "id": "QCCb_Lt2DBmA"
      },
      "execution_count": 13,
      "outputs": []
    },
    {
      "cell_type": "code",
      "source": [
        "X_train.shape, X_test.shape, y_train.shape, y_test.shape"
      ],
      "metadata": {
        "colab": {
          "base_uri": "https://localhost:8080/"
        },
        "id": "tmykBxd5_IE6",
        "outputId": "9b72f6b3-87cc-436c-a2ed-312d0795ca61"
      },
      "execution_count": 14,
      "outputs": [
        {
          "output_type": "execute_result",
          "data": {
            "text/plain": [
              "((67, 9), (30, 9), (67,), (30,))"
            ]
          },
          "metadata": {},
          "execution_count": 14
        }
      ]
    },
    {
      "cell_type": "code",
      "source": [
        "### reshaping the ys:\n",
        "y_train = np.array(y_train).reshape(-1, 1)\n",
        "y_test = np.array(y_test).reshape(-1, 1)\n",
        "\n",
        "y_train.shape, y_test.shape"
      ],
      "metadata": {
        "colab": {
          "base_uri": "https://localhost:8080/"
        },
        "id": "DcL0kcxiF2gK",
        "outputId": "13d9ad0f-30a2-4f7c-da15-d211937ff84c"
      },
      "execution_count": 15,
      "outputs": [
        {
          "output_type": "execute_result",
          "data": {
            "text/plain": [
              "((67, 1), (30, 1))"
            ]
          },
          "metadata": {},
          "execution_count": 15
        }
      ]
    },
    {
      "cell_type": "markdown",
      "source": [
        "# 3.(d) Implementing the `ordinary least squares solver`! (without using the sklearn library)"
      ],
      "metadata": {
        "id": "l_gJaBREGcWT"
      }
    },
    {
      "cell_type": "code",
      "source": [
        "import numpy as np\n",
        "from dataclasses import dataclass, field\n",
        "@dataclass\n",
        "class OrdinaryLeastSquares:\n",
        "  model_params: np.ndarray = field(init=False)\n",
        "  def __post_init__(self):\n",
        "    self.model_params = None\n",
        "\n",
        "  def fit(self, X_train_: np.ndarray, y_train_: np.ndarray) -> None:\n",
        "    '''\n",
        "      for the ordinary least squares I need to solve the normal equation\n",
        "      w= (X^{T} X)^{-1} X^{T}y\n",
        "    '''\n",
        "    x_t_x= np.matmul(np.transpose(X_train_),X_train_)\n",
        "\n",
        "    det_x_t_x = np.linalg.det(x_t_x)\n",
        "    if np.isclose(det_x_t_x, 0):\n",
        "        raise ValueError(\"Matrix X_train^T X_train is singular!\")\n",
        "\n",
        "    inverse_x_t_x= np.linalg.inv(x_t_x)\n",
        "    inv_times_XT= np.matmul(inverse_x_t_x,np.transpose(X_train_))\n",
        "    self.model_params = np.matmul(inv_times_XT, y_train_)\n",
        "    print(\"fit function was called. we are leaving it now!\")\n",
        "\n",
        "  def predict(self, X_test_: np.ndarray) -> np.ndarray:\n",
        "    '''\n",
        "      Returns:\n",
        "      y_pred= WX_test\n",
        "    '''\n",
        "    y_pred = np.matmul(X_test_,self.model_params)\n",
        "    return y_pred\n",
        "\n",
        "  def rmse(self, X_test_: np.ndarray, y_test_: np.ndarray) -> float:\n",
        "    '''\n",
        "    Calculates the rmse using the formula:\n",
        "    rmse= np.sqrt(np.mean((y_pred - y_test_)**2))\n",
        "    '''\n",
        "    y_pred=self.predict(X_test_)\n",
        "    rmse = np.sqrt(np.mean((y_pred - y_test_)**2))\n",
        "    return rmse"
      ],
      "metadata": {
        "id": "ZEj0d4ciGZiL"
      },
      "execution_count": 16,
      "outputs": []
    },
    {
      "cell_type": "code",
      "source": [
        "ols_model = OrdinaryLeastSquares()\n",
        "ols_model.fit(X_train, y_train)\n",
        "print(f\"params:{ols_model.model_params.shape}\")\n",
        "print(\"model params are:\"); print(ols_model.model_params)\n",
        "print(\"the first entry is the intercept/bias, remaining are the weights/coefficients\")\n",
        "\n",
        "predictions = ols_model.predict(X_test)\n",
        "rmse_value = ols_model.rmse(X_test, y_test)\n",
        "print(\"RMSE:\", rmse_value)"
      ],
      "metadata": {
        "colab": {
          "base_uri": "https://localhost:8080/"
        },
        "id": "b7CbOtxlO99m",
        "outputId": "33d3a816-d061-4e55-f8e8-40e4647f8190"
      },
      "execution_count": 17,
      "outputs": [
        {
          "output_type": "stream",
          "name": "stdout",
          "text": [
            "fit function was called. we are leaving it now!\n",
            "params:(9, 1)\n",
            "model params are:\n",
            "[[ 2.45462916]\n",
            " [ 0.75271916]\n",
            " [ 0.24358154]\n",
            " [-0.19201857]\n",
            " [ 0.11429899]\n",
            " [ 0.3585389 ]\n",
            " [-0.23917874]\n",
            " [ 0.06634662]\n",
            " [ 0.13186029]]\n",
            "the first entry is the intercept/bias, remaining are the weights/coefficients\n",
            "RMSE: 0.6941798374525129\n"
          ]
        }
      ]
    },
    {
      "cell_type": "markdown",
      "source": [
        "### Comparing our results with the sklearn's `LinearRegression()`"
      ],
      "metadata": {
        "id": "tTiWLLnCRwU2"
      }
    },
    {
      "cell_type": "code",
      "source": [
        "from sklearn.linear_model import LinearRegression\n",
        "from sklearn.metrics import mean_squared_error"
      ],
      "metadata": {
        "id": "yGh6hqKARe97"
      },
      "execution_count": 18,
      "outputs": []
    },
    {
      "cell_type": "code",
      "source": [
        "ols_sklearn=LinearRegression()\n",
        "ols_sklearn.fit(X_train, y_train)\n",
        "\n",
        "# Print the coefficients and intercept\n",
        "print(\"Coefficients from sklearn:\", ols_sklearn.coef_)\n",
        "print(\"Intercept from sklearn:\", ols_sklearn.intercept_)\n",
        "\n",
        "preds_sklearn_ols=ols_sklearn.predict(X_test)\n",
        "\n",
        "rmse_sklearn = np.sqrt(mean_squared_error(y_test, preds_sklearn_ols))\n",
        "print(\"RMSE:\", rmse_sklearn)"
      ],
      "metadata": {
        "colab": {
          "base_uri": "https://localhost:8080/"
        },
        "id": "UiJUfYBfRb3A",
        "outputId": "81386774-af3a-4d63-e281-cb3bc670b8c3"
      },
      "execution_count": 19,
      "outputs": [
        {
          "output_type": "stream",
          "name": "stdout",
          "text": [
            "Coefficients from sklearn: [[ 0.          0.75271916  0.24358154 -0.19201857  0.11429899  0.3585389\n",
            "  -0.23917874  0.06634662  0.13186029]]\n",
            "Intercept from sklearn: [2.45462916]\n",
            "RMSE: 0.6941798374525129\n"
          ]
        }
      ]
    },
    {
      "cell_type": "markdown",
      "source": [
        "* Hence we have also verified our implementation!!!"
      ],
      "metadata": {
        "id": "0fZege5FSlZ9"
      }
    },
    {
      "cell_type": "markdown",
      "source": [
        "# 3(e) Implementing our own `ridge_regression` (without using the sklearn's model)!"
      ],
      "metadata": {
        "id": "ilXPC0s4TDSy"
      }
    },
    {
      "cell_type": "code",
      "source": [
        "@dataclass\n",
        "class RidgeRegression(OrdinaryLeastSquares):\n",
        "    ridge_penalty: float\n",
        "\n",
        "    def fit(self, X_train_: np.ndarray, y_train_: np.ndarray) -> None:\n",
        "        regularising_matrix = np.identity(X_train_.shape[1])\n",
        "        regularising_matrix[0,0]=0 ### since we dont want to regularise the intercept: reference: https://stats.stackexchange.com/questions/602412/what-would-be-the-solution-of-ridge-regression-if-there-is-an-intercept\n",
        "        regularization_term = self.ridge_penalty * regularising_matrix\n",
        "\n",
        "        x_t_x_regularized = np.matmul(np.transpose(X_train_), X_train_) + regularization_term\n",
        "\n",
        "        det_x_t_x_regularized = np.linalg.det(x_t_x_regularized)\n",
        "        if np.isclose(det_x_t_x_regularized, 0):\n",
        "            raise ValueError(\"Matrix (X_train^T X_train + lambda*I) is singular!\")\n",
        "\n",
        "        inverse_x_t_x_regularized = np.linalg.inv(x_t_x_regularized)\n",
        "        inv_times_XT = np.matmul(inverse_x_t_x_regularized, np.transpose(X_train_))\n",
        "        self.model_params = np.matmul(inv_times_XT, y_train_)\n"
      ],
      "metadata": {
        "id": "N-D_YO2m5EpM"
      },
      "execution_count": 20,
      "outputs": []
    },
    {
      "cell_type": "code",
      "source": [
        "def plot_parameters_vs_penalty(ridge_penalties, model_params):\n",
        "    plt.figure(figsize=(10, 6))\n",
        "    for i in range(model_params.shape[1]):\n",
        "        plt.plot(ridge_penalties, model_params[:, i], label=f'Param {i+1}')\n",
        "    plt.xlabel('Ridge Penalty')\n",
        "    plt.ylabel('Model Parameters')\n",
        "    plt.legend()\n",
        "    plt.title('Model Parameters vs Ridge Penalty')\n",
        "    plt.show()\n",
        "\n",
        "def plot_rmse_vs_penalty(ridge_penalties, rmse_values):\n",
        "    plt.figure(figsize=(10, 6))\n",
        "    plt.plot(ridge_penalties, rmse_values, marker='o', linestyle='-')\n",
        "    plt.xlabel('Ridge Penalty')\n",
        "    plt.ylabel('RMSE')\n",
        "    plt.title('RMSE vs Ridge Penalty')\n",
        "    plt.show()"
      ],
      "metadata": {
        "id": "uWtWqtZjwFDB"
      },
      "execution_count": 21,
      "outputs": []
    },
    {
      "cell_type": "code",
      "source": [
        "ridge_penalties = np.linspace(0, 100, 101)\n",
        "model_params_list = []\n",
        "rmse_values_list = []\n",
        "\n",
        "for penalty in ridge_penalties:\n",
        "    ridge_model = RidgeRegression(ridge_penalty=penalty)\n",
        "    ridge_model.fit(X_train, y_train)\n",
        "\n",
        "    model_params_list.append(ridge_model.model_params[1:].flatten())\n",
        "\n",
        "    predictions = ridge_model.predict(X_test)\n",
        "    rmse_value = ridge_model.rmse(X_test, y_test)\n",
        "    #print(f\"for penalty: {penalty} the rmse value is {rmse_value}\")\n",
        "    rmse_values_list.append(rmse_value)\n",
        "\n",
        "#print(\"model parameters are:\"); print(model_params_list)\n",
        "\n",
        "# print(\"model_param_list\")\n",
        "# print(model_params_list)\n",
        "model_params_array = np.array(model_params_list)\n",
        "rmse_values_array = np.array(rmse_values_list)\n",
        "\n",
        "\n",
        "plot_parameters_vs_penalty(ridge_penalties, model_params_array)\n",
        "plot_rmse_vs_penalty(ridge_penalties, rmse_values_array)"
      ],
      "metadata": {
        "colab": {
          "base_uri": "https://localhost:8080/",
          "height": 1000
        },
        "id": "gbU1CXwLwHAX",
        "outputId": "6b0cdbdf-dd73-436e-c6b8-7c98286f0cf0"
      },
      "execution_count": 22,
      "outputs": [
        {
          "output_type": "display_data",
          "data": {
            "text/plain": [
              "<Figure size 1000x600 with 1 Axes>"
            ],
            "image/png": "[encoded data removed]"
          },
          "metadata": {}
        },
        {
          "output_type": "display_data",
          "data": {
            "text/plain": [
              "<Figure size 1000x600 with 1 Axes>"
            ],
            "image/png": "[encoded data removed]"
          },
          "metadata": {}
        }
      ]
    },
    {
      "cell_type": "markdown",
      "source": [
        "Comparing this with sklearn's ridge regression's implementation."
      ],
      "metadata": {
        "id": "N1Qqsz2my4Vc"
      }
    },
    {
      "cell_type": "code",
      "source": [
        "from sklearn.linear_model import Ridge\n",
        "\n",
        "# Assuming X_train, X_test, y_train, y_test are already defined\n",
        "\n",
        "# Create a range of ridge penalties\n",
        "ridge_penalties = np.linspace(0, 100,101)\n",
        "\n",
        "# Lists to store model parameters and RMSE values\n",
        "sklearn_model_params_list = []\n",
        "sklearn_rmse_values_list = []\n",
        "\n",
        "for penalty in ridge_penalties:\n",
        "    # Create Ridge Regression model\n",
        "    ridge_model = Ridge(alpha=penalty)\n",
        "\n",
        "    # Fit the model\n",
        "    ridge_model.fit(X_train, y_train)\n",
        "\n",
        "    # Collect model parameters\n",
        "    sklearn_model_params_list.append(ridge_model.coef_)\n",
        "\n",
        "    # Make predictions on the test set\n",
        "    predictions = ridge_model.predict(X_test)\n",
        "\n",
        "    # Calculate RMSE\n",
        "    rmse_value = np.sqrt(mean_squared_error(y_test, predictions))\n",
        "    #print(f\"for penalty: {penalty} the rmse value is {rmse_value}\")\n",
        "    sklearn_rmse_values_list.append(rmse_value)\n",
        "\n",
        "\n",
        "\n",
        "#print(\"model parameters are (SKLearn's ridge):\"); print(model_params_list)\n",
        "\n",
        "# Convert lists to numpy arrays for plotting\n",
        "sklearn_model_params_array = np.array(sklearn_model_params_list)\n",
        "sklearn_rmse_values_array = np.array(sklearn_rmse_values_list)\n",
        "\n",
        "#plot_parameters_vs_penalty(ridge_penalties, sklearn_model_params_array)\n",
        "plot_rmse_vs_penalty(ridge_penalties, sklearn_rmse_values_array)\n"
      ],
      "metadata": {
        "colab": {
          "base_uri": "https://localhost:8080/",
          "height": 564
        },
        "id": "C4Bqti2xwKo2",
        "outputId": "4a8725eb-00a0-46a5-9a52-825ad249d901"
      },
      "execution_count": 23,
      "outputs": [
        {
          "output_type": "display_data",
          "data": {
            "text/plain": [
              "<Figure size 1000x600 with 1 Axes>"
            ],
            "image/png": "[encoded data removed]"
          },
          "metadata": {}
        }
      ]
    }
  ]
}